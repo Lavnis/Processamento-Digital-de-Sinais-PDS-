{
  "nbformat": 4,
  "nbformat_minor": 0,
  "metadata": {
    "colab": {
      "provenance": [],
      "authorship_tag": "ABX9TyNPe9GHLZUjApZR9O9Wcbay",
      "include_colab_link": true
    },
    "kernelspec": {
      "name": "python3",
      "display_name": "Python 3"
    },
    "language_info": {
      "name": "python"
    }
  },
  "cells": [
    {
      "cell_type": "markdown",
      "metadata": {
        "id": "view-in-github",
        "colab_type": "text"
      },
      "source": [
        "<a href=\"https://colab.research.google.com/github/Lavnis/Processamento-Digital-de-Sinais-PDS-/blob/main/FFT_por_decima%C3%A7%C3%A3o_em_frequ%C3%AAncia.ipynb\" target=\"_parent\"><img src=\"https://colab.research.google.com/assets/colab-badge.svg\" alt=\"Open In Colab\"/></a>"
      ]
    },
    {
      "cell_type": "code",
      "source": [
        "import numpy as np\n",
        "import matplotlib.pyplot as plt\n",
        "\n",
        "def fft_decimation_frequency(x):\n",
        "  N = len(x)\n",
        "  if N <= 1:\n",
        "     return x\n",
        "\n",
        "  #Dividir a sequência em partes par e ímpar\n",
        "  par = fft_decimation_frequency(x[0::2])\n",
        "  impar = fft_decimation_frequency(x[1::2])\n",
        "\n",
        "  #Calcular as partes da FFT\n",
        "  T = np.exp(-2j * np.pi * np.arange(N) / N)\n",
        "  return np.concatenate([par + T[:N // 2] * impar,\n",
        "                        par + T[N // 2:]* impar])\n",
        "\n",
        "  #Exemplo de uso\n",
        "  if __name__ == \"__main__\":\n",
        "    #Criar um sinal de teste\n",
        "    fs = 8000  #Frequência de amostragem\n",
        "    t = linspace(0, 1, fs, endpoint = False) #Tempo de 1seg\n",
        "    freq1 , freq2 = 400, 1200  #Frequências do sinal\n",
        "    x = 0.5 * np.sin(2 * np.pi * freq1 * t) + 0.5 * np.sin(2 * np.pi * freq2 * t)\n",
        "\n",
        "  #Calcular a FFT\n",
        "  fft_result = fft_decimation_frequency(x)\n",
        "\n",
        "  #Calcular a magnitude\n",
        "  freq = np.fft.fftfreq(len(x), 1/fs)\n",
        "  magnitude = np.abs(fft_result)\n",
        "\n",
        "  #Plotar o resultado\n",
        "  plt.figure(figsize(12, 6))\n",
        "  plt.plot(freq[:len(freq)//2], magnitude[:len(magnitude)//2])\n",
        "  plt.title(\"Magnitude da FFT usando decimação em frequência\")\n",
        "  plt.xlabel(\"Frequência (Hz)\")\n",
        "  plt.ylabel(\"Magnitude\")\n",
        "  plt.grid()\n",
        "  plt.show()\n"
      ],
      "metadata": {
        "id": "N5be29pGNMyz"
      },
      "execution_count": 6,
      "outputs": []
    }
  ]
}