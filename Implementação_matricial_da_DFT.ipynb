{
  "nbformat": 4,
  "nbformat_minor": 0,
  "metadata": {
    "colab": {
      "provenance": [],
      "authorship_tag": "ABX9TyNGN3EgawCTvrk8NEQdjPnN",
      "include_colab_link": true
    },
    "kernelspec": {
      "name": "python3",
      "display_name": "Python 3"
    },
    "language_info": {
      "name": "python"
    }
  },
  "cells": [
    {
      "cell_type": "markdown",
      "metadata": {
        "id": "view-in-github",
        "colab_type": "text"
      },
      "source": [
        "<a href=\"https://colab.research.google.com/github/Lavnis/Processamento-Digital-de-Sinais-PDS-/blob/main/Implementa%C3%A7%C3%A3o_matricial_da_DFT.ipynb\" target=\"_parent\"><img src=\"https://colab.research.google.com/assets/colab-badge.svg\" alt=\"Open In Colab\"/></a>"
      ]
    },
    {
      "cell_type": "code",
      "execution_count": 2,
      "metadata": {
        "id": "7prZzebO0fPz"
      },
      "outputs": [],
      "source": [
        "import numpy as np\n",
        "def dft_matrix(n):\n",
        "  k = np.arange(n)\n",
        "  #Calcula a matriz DFT\n",
        "  M = np.exp(-2j*np.pi*np.outer(k,k)/n)\n",
        "  return M\n",
        "def dft(signal):\n",
        "  \"\"\"Calcula a DFT de um sinal usando a matriz\"\"\"\n",
        "  n = len(signal)\n",
        "  M = dft_matrix(n)\n",
        "  return np.dot(M, signal)\n",
        "#Exemplo de uso\n",
        "  signal = np.array([1, 2, 3, 4])\n",
        "  dft_result = dft(signal)\n",
        "  print(\"Sinal original:\", signal)\n",
        "  print(\"Resultado da DFT:\", dft_result)"
      ]
    }
  ]
}